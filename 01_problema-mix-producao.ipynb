{
 "cells": [
  {
   "cell_type": "markdown",
   "id": "0ac2de87",
   "metadata": {},
   "source": [
    "# Problema\n",
    "\n",
    "(Belfiore e Fávero) A empresa Venix de brinquedos está revendo seu planejamento de produção de carrinhos e triciclos. O lucro líquido por unidade de carrinho e triciclo produzido é de $\\text{R\\$}12,00$ e $\\text{R\\$}60,00$, respectivamente. As matérias primas e os insumos necessários para a fabricação de cada um dos produtos são terceirizados, cabendo à empresa os processos de usinagem, pintura e montagem. O processo de usinagem requer 15 minutos de mão de obra especializada por unidade de carrinho e 30 minutos por unidade de triciclo produzida. O processo de pintura requer 6 minutos de mão de obra especializada por unidade de carrinho e 45 minutos por unidade de triciclo produzida. Já o processo de montagem necessita de 6 minutos e 24 minutos para uma unidade de carrinho e de triciclo produzida, respectivamente. O tempo disponível por semana é de 36, 22 e 15 horas para os processos de usinagem, pintura e montagem, respectivamente. \n",
    "\n",
    "A empresa quer determinar quanto produzir de cada produto por semana, respeitando as limitações de recursos, de forma a maximizar o lucro líquido semanal. Formular o problema de programação linear que maximiza o lucro líquido da empresa Venix.\n",
    "\n",
    "\n",
    "|  | carrinho | triciclo |\n",
    "|:--- |:---:|:---:|\n",
    "| <b>Lucro (R$)</b> | 12 | 60 |\n",
    "\n",
    "\n",
    "|  | carrinho | triciclo | disponib. (h) |\n",
    "|:--- |:---:|:---:|:---:|\n",
    "| <b>Usinagem</b> | 0,25 | 0,5 | 36 |\n",
    "| <b>Pintura</b> | 0,1 | 0,75 | 22 |\n",
    "| <b>Montagem</b> | 0,1 | 0,4 | 15 |\n",
    "\n",
    "<hr>"
   ]
  },
  {
   "cell_type": "markdown",
   "id": "f586e7e4",
   "metadata": {},
   "source": [
    "# Formulação\n",
    "\n",
    "### Variáveis de decisão:\n",
    "\n",
    "$x_1 \\colon \\text{quantidade de carrinhos a ser fabricada por semana}$\n",
    "\n",
    "$x_2 \\colon \\text{quantidade de triciclos a ser fabricada por semana}$\n",
    "\n",
    "### Função objetivo:\n",
    "\n",
    "$\\mathrm{max} \\; z = 12 x_1 + 60 x_2$\n",
    "\n",
    "### Restrições:\n",
    "\n",
    "$0,25x_1 + 0,5x_2 \\leq 36$\n",
    "\n",
    "$0,1x_1 + 0,75x_2 \\leq 22$\n",
    "\n",
    "$0,1x_1 + 0,4x_2 \\leq 15$\n",
    "\n",
    "$x_1, x_2 \\geq 0$"
   ]
  },
  {
   "cell_type": "markdown",
   "id": "0d2c032b",
   "metadata": {},
   "source": [
    "# Formulação genérica\n",
    "\n",
    "### Índices / conjuntos:\n",
    "\n",
    "$I \\colon \\text{Conjunto de processos}, \\{1, \\ldots, m\\}$\n",
    "\n",
    "$J \\colon \\text{Conjunto de produtos},\\{1, \\ldots n\\}$\n",
    "\n",
    "### Parâmetros:\n",
    "\n",
    "$c_j \\colon \\text{lucro líquido por unidade do produto } j \\in J \\text{ produzido}$\n",
    "\n",
    "$a_{ij} \\colon \\text{quantidade de horas necessárias para a execução do processo } i \\in I \\text{ na fabricação do produto } j \\in J$\n",
    "\n",
    "$b_i \\colon \\text{quantidade de horas disponíveis para execução do processo } i \\in I$\n",
    "\n",
    "### Variáveis de decisão:\n",
    "\n",
    "$x_j \\colon \\text{quantidade do produto } j \\in J \\text{ a ser fabricada por semana}$\n",
    "\n",
    "### Modelo matemático:\n",
    "\n",
    "$ \\mathrm{max} \\; z = \\sum\\limits_{j \\in J} c_j x_{j}$\n",
    "\n",
    "sujeito a:\n",
    "\n",
    "$\\sum\\limits_{j \\in J} a_{ij} x_{j} \\leq b_{i}, \\;\\; \\forall \\; i \\in I$\n",
    "\n",
    "$x_{j} \\geq 0 \\;\\; \\forall j \\in J$"
   ]
  },
  {
   "cell_type": "markdown",
   "id": "1266dab3",
   "metadata": {},
   "source": [
    "# Preparação dos dados de entrada"
   ]
  },
  {
   "cell_type": "code",
   "execution_count": 1,
   "id": "28baad3e",
   "metadata": {},
   "outputs": [],
   "source": [
    "# Dados de entrada:\n",
    "\n",
    "lucros = [12, 60]\n",
    "\n",
    "horas = [[0.25, 0.5], \n",
    "         [0.1, 0.75], \n",
    "         [0.1, 0.4]]\n",
    "\n",
    "limites = [36, 22, 15]"
   ]
  },
  {
   "cell_type": "code",
   "execution_count": 2,
   "id": "09bb6597",
   "metadata": {},
   "outputs": [],
   "source": [
    "m = len(limites)"
   ]
  },
  {
   "cell_type": "code",
   "execution_count": 3,
   "id": "72d5e5d6",
   "metadata": {},
   "outputs": [
    {
     "data": {
      "text/plain": [
       "3"
      ]
     },
     "execution_count": 3,
     "metadata": {},
     "output_type": "execute_result"
    }
   ],
   "source": [
    "m"
   ]
  },
  {
   "cell_type": "code",
   "execution_count": 4,
   "id": "f6b0fce3",
   "metadata": {},
   "outputs": [],
   "source": [
    "n = len(lucros)"
   ]
  },
  {
   "cell_type": "code",
   "execution_count": 5,
   "id": "d88bf048",
   "metadata": {},
   "outputs": [
    {
     "data": {
      "text/plain": [
       "2"
      ]
     },
     "execution_count": 5,
     "metadata": {},
     "output_type": "execute_result"
    }
   ],
   "source": [
    "n"
   ]
  },
  {
   "cell_type": "markdown",
   "id": "59050827",
   "metadata": {},
   "source": [
    "# Modelo computacional"
   ]
  },
  {
   "cell_type": "code",
   "execution_count": 6,
   "id": "4296e6ce",
   "metadata": {},
   "outputs": [],
   "source": [
    "import pyomo.environ as pyo"
   ]
  },
  {
   "cell_type": "code",
   "execution_count": 7,
   "id": "2bc6e947",
   "metadata": {},
   "outputs": [],
   "source": [
    "# Declaração do modelo:\n",
    "\n",
    "modelo = pyo.ConcreteModel()"
   ]
  },
  {
   "cell_type": "code",
   "execution_count": 8,
   "id": "6cd7e672",
   "metadata": {},
   "outputs": [
    {
     "name": "stdout",
     "output_type": "stream",
     "text": [
      "0 Declarations: \n"
     ]
    }
   ],
   "source": [
    "modelo.pprint()"
   ]
  },
  {
   "cell_type": "code",
   "execution_count": 9,
   "id": "e50382a7",
   "metadata": {},
   "outputs": [],
   "source": [
    "# Declaração dos conjuntos:\n",
    "\n",
    "modelo.I = pyo.RangeSet(m)\n",
    "modelo.J = pyo.RangeSet(n)"
   ]
  },
  {
   "cell_type": "code",
   "execution_count": 10,
   "id": "d8a2eab2",
   "metadata": {},
   "outputs": [
    {
     "name": "stdout",
     "output_type": "stream",
     "text": [
      "2 RangeSet Declarations\n",
      "    I : Dimen=1, Size=3, Bounds=(1, 3)\n",
      "        Key  : Finite : Members\n",
      "        None :   True :   [1:3]\n",
      "    J : Dimen=1, Size=2, Bounds=(1, 2)\n",
      "        Key  : Finite : Members\n",
      "        None :   True :   [1:2]\n",
      "\n",
      "2 Declarations: I J\n"
     ]
    }
   ],
   "source": [
    "modelo.pprint()"
   ]
  },
  {
   "cell_type": "code",
   "execution_count": 11,
   "id": "ef15b499",
   "metadata": {},
   "outputs": [],
   "source": [
    "# Declaração dos parâmetros:\n",
    "\n",
    "modelo.c = pyo.Param(modelo.J, initialize=lambda modelo, j: lucros[j-1])"
   ]
  },
  {
   "cell_type": "code",
   "execution_count": 12,
   "id": "f3af688a",
   "metadata": {},
   "outputs": [
    {
     "name": "stdout",
     "output_type": "stream",
     "text": [
      "2 RangeSet Declarations\n",
      "    I : Dimen=1, Size=3, Bounds=(1, 3)\n",
      "        Key  : Finite : Members\n",
      "        None :   True :   [1:3]\n",
      "    J : Dimen=1, Size=2, Bounds=(1, 2)\n",
      "        Key  : Finite : Members\n",
      "        None :   True :   [1:2]\n",
      "\n",
      "1 Param Declarations\n",
      "    c : Size=2, Index=J, Domain=Any, Default=None, Mutable=False\n",
      "        Key : Value\n",
      "          1 :    12\n",
      "          2 :    60\n",
      "\n",
      "3 Declarations: I J c\n"
     ]
    }
   ],
   "source": [
    "modelo.pprint()"
   ]
  },
  {
   "cell_type": "code",
   "execution_count": 13,
   "id": "dec8be01",
   "metadata": {},
   "outputs": [],
   "source": [
    "modelo.a = pyo.Param(modelo.I, modelo.J, initialize=lambda modelo, i, j: horas[i-1][j-1])"
   ]
  },
  {
   "cell_type": "code",
   "execution_count": 14,
   "id": "efa2153e",
   "metadata": {},
   "outputs": [
    {
     "name": "stdout",
     "output_type": "stream",
     "text": [
      "1 Set Declarations\n",
      "    a_index : Size=1, Index=None, Ordered=True\n",
      "        Key  : Dimen : Domain : Size : Members\n",
      "        None :     2 :    I*J :    6 : {(1, 1), (1, 2), (2, 1), (2, 2), (3, 1), (3, 2)}\n",
      "\n",
      "2 RangeSet Declarations\n",
      "    I : Dimen=1, Size=3, Bounds=(1, 3)\n",
      "        Key  : Finite : Members\n",
      "        None :   True :   [1:3]\n",
      "    J : Dimen=1, Size=2, Bounds=(1, 2)\n",
      "        Key  : Finite : Members\n",
      "        None :   True :   [1:2]\n",
      "\n",
      "2 Param Declarations\n",
      "    a : Size=6, Index=a_index, Domain=Any, Default=None, Mutable=False\n",
      "        Key    : Value\n",
      "        (1, 1) :  0.25\n",
      "        (1, 2) :   0.5\n",
      "        (2, 1) :   0.1\n",
      "        (2, 2) :  0.75\n",
      "        (3, 1) :   0.1\n",
      "        (3, 2) :   0.4\n",
      "    c : Size=2, Index=J, Domain=Any, Default=None, Mutable=False\n",
      "        Key : Value\n",
      "          1 :    12\n",
      "          2 :    60\n",
      "\n",
      "5 Declarations: I J c a_index a\n"
     ]
    }
   ],
   "source": [
    "modelo.pprint()"
   ]
  },
  {
   "cell_type": "code",
   "execution_count": 15,
   "id": "0134b97e",
   "metadata": {},
   "outputs": [],
   "source": [
    "modelo.b = pyo.Param(modelo.I, initialize=lambda modelo, i: limites[i-1])"
   ]
  },
  {
   "cell_type": "code",
   "execution_count": 16,
   "id": "c3af757d",
   "metadata": {},
   "outputs": [
    {
     "name": "stdout",
     "output_type": "stream",
     "text": [
      "1 Set Declarations\n",
      "    a_index : Size=1, Index=None, Ordered=True\n",
      "        Key  : Dimen : Domain : Size : Members\n",
      "        None :     2 :    I*J :    6 : {(1, 1), (1, 2), (2, 1), (2, 2), (3, 1), (3, 2)}\n",
      "\n",
      "2 RangeSet Declarations\n",
      "    I : Dimen=1, Size=3, Bounds=(1, 3)\n",
      "        Key  : Finite : Members\n",
      "        None :   True :   [1:3]\n",
      "    J : Dimen=1, Size=2, Bounds=(1, 2)\n",
      "        Key  : Finite : Members\n",
      "        None :   True :   [1:2]\n",
      "\n",
      "3 Param Declarations\n",
      "    a : Size=6, Index=a_index, Domain=Any, Default=None, Mutable=False\n",
      "        Key    : Value\n",
      "        (1, 1) :  0.25\n",
      "        (1, 2) :   0.5\n",
      "        (2, 1) :   0.1\n",
      "        (2, 2) :  0.75\n",
      "        (3, 1) :   0.1\n",
      "        (3, 2) :   0.4\n",
      "    b : Size=3, Index=I, Domain=Any, Default=None, Mutable=False\n",
      "        Key : Value\n",
      "          1 :    36\n",
      "          2 :    22\n",
      "          3 :    15\n",
      "    c : Size=2, Index=J, Domain=Any, Default=None, Mutable=False\n",
      "        Key : Value\n",
      "          1 :    12\n",
      "          2 :    60\n",
      "\n",
      "6 Declarations: I J c a_index a b\n"
     ]
    }
   ],
   "source": [
    "modelo.pprint()"
   ]
  },
  {
   "cell_type": "code",
   "execution_count": 17,
   "id": "f3256dad",
   "metadata": {},
   "outputs": [],
   "source": [
    "# Declaração das variáveis de decisão:\n",
    "\n",
    "modelo.x = pyo.Var(modelo.J, within=pyo.NonNegativeReals)"
   ]
  },
  {
   "cell_type": "code",
   "execution_count": 18,
   "id": "dc81c1d4",
   "metadata": {},
   "outputs": [
    {
     "name": "stdout",
     "output_type": "stream",
     "text": [
      "1 Set Declarations\n",
      "    a_index : Size=1, Index=None, Ordered=True\n",
      "        Key  : Dimen : Domain : Size : Members\n",
      "        None :     2 :    I*J :    6 : {(1, 1), (1, 2), (2, 1), (2, 2), (3, 1), (3, 2)}\n",
      "\n",
      "2 RangeSet Declarations\n",
      "    I : Dimen=1, Size=3, Bounds=(1, 3)\n",
      "        Key  : Finite : Members\n",
      "        None :   True :   [1:3]\n",
      "    J : Dimen=1, Size=2, Bounds=(1, 2)\n",
      "        Key  : Finite : Members\n",
      "        None :   True :   [1:2]\n",
      "\n",
      "3 Param Declarations\n",
      "    a : Size=6, Index=a_index, Domain=Any, Default=None, Mutable=False\n",
      "        Key    : Value\n",
      "        (1, 1) :  0.25\n",
      "        (1, 2) :   0.5\n",
      "        (2, 1) :   0.1\n",
      "        (2, 2) :  0.75\n",
      "        (3, 1) :   0.1\n",
      "        (3, 2) :   0.4\n",
      "    b : Size=3, Index=I, Domain=Any, Default=None, Mutable=False\n",
      "        Key : Value\n",
      "          1 :    36\n",
      "          2 :    22\n",
      "          3 :    15\n",
      "    c : Size=2, Index=J, Domain=Any, Default=None, Mutable=False\n",
      "        Key : Value\n",
      "          1 :    12\n",
      "          2 :    60\n",
      "\n",
      "1 Var Declarations\n",
      "    x : Size=2, Index=J\n",
      "        Key : Lower : Value : Upper : Fixed : Stale : Domain\n",
      "          1 :     0 :  None :  None : False :  True : NonNegativeReals\n",
      "          2 :     0 :  None :  None : False :  True : NonNegativeReals\n",
      "\n",
      "7 Declarations: I J c a_index a b x\n"
     ]
    }
   ],
   "source": [
    "modelo.pprint()"
   ]
  },
  {
   "cell_type": "markdown",
   "id": "9b46db56",
   "metadata": {},
   "source": [
    "$ \\mathrm{max} \\; z = \\sum\\limits_{j \\in J} c_j x_{j}$"
   ]
  },
  {
   "cell_type": "code",
   "execution_count": 19,
   "id": "76707c91",
   "metadata": {},
   "outputs": [],
   "source": [
    "# Declaração da função objetivo:\n",
    "\n",
    "def regra_fo(mod):\n",
    "    return pyo.summation(mod.c, mod.x)"
   ]
  },
  {
   "cell_type": "code",
   "execution_count": 20,
   "id": "21ebf0e3",
   "metadata": {},
   "outputs": [],
   "source": [
    "modelo.z = pyo.Objective(rule=regra_fo, sense=pyo.maximize)"
   ]
  },
  {
   "cell_type": "code",
   "execution_count": 21,
   "id": "e74a1da4",
   "metadata": {},
   "outputs": [
    {
     "name": "stdout",
     "output_type": "stream",
     "text": [
      "1 Set Declarations\n",
      "    a_index : Size=1, Index=None, Ordered=True\n",
      "        Key  : Dimen : Domain : Size : Members\n",
      "        None :     2 :    I*J :    6 : {(1, 1), (1, 2), (2, 1), (2, 2), (3, 1), (3, 2)}\n",
      "\n",
      "2 RangeSet Declarations\n",
      "    I : Dimen=1, Size=3, Bounds=(1, 3)\n",
      "        Key  : Finite : Members\n",
      "        None :   True :   [1:3]\n",
      "    J : Dimen=1, Size=2, Bounds=(1, 2)\n",
      "        Key  : Finite : Members\n",
      "        None :   True :   [1:2]\n",
      "\n",
      "3 Param Declarations\n",
      "    a : Size=6, Index=a_index, Domain=Any, Default=None, Mutable=False\n",
      "        Key    : Value\n",
      "        (1, 1) :  0.25\n",
      "        (1, 2) :   0.5\n",
      "        (2, 1) :   0.1\n",
      "        (2, 2) :  0.75\n",
      "        (3, 1) :   0.1\n",
      "        (3, 2) :   0.4\n",
      "    b : Size=3, Index=I, Domain=Any, Default=None, Mutable=False\n",
      "        Key : Value\n",
      "          1 :    36\n",
      "          2 :    22\n",
      "          3 :    15\n",
      "    c : Size=2, Index=J, Domain=Any, Default=None, Mutable=False\n",
      "        Key : Value\n",
      "          1 :    12\n",
      "          2 :    60\n",
      "\n",
      "1 Var Declarations\n",
      "    x : Size=2, Index=J\n",
      "        Key : Lower : Value : Upper : Fixed : Stale : Domain\n",
      "          1 :     0 :  None :  None : False :  True : NonNegativeReals\n",
      "          2 :     0 :  None :  None : False :  True : NonNegativeReals\n",
      "\n",
      "1 Objective Declarations\n",
      "    z : Size=1, Index=None, Active=True\n",
      "        Key  : Active : Sense    : Expression\n",
      "        None :   True : maximize : 12*x[1] + 60*x[2]\n",
      "\n",
      "8 Declarations: I J c a_index a b x z\n"
     ]
    }
   ],
   "source": [
    "modelo.pprint()"
   ]
  },
  {
   "cell_type": "markdown",
   "id": "4e24f571",
   "metadata": {},
   "source": [
    "$\\sum\\limits_{j \\in J} a_{ij} x_{j} \\leq b_{i}, \\;\\; \\forall \\; i \\in I$"
   ]
  },
  {
   "cell_type": "code",
   "execution_count": 22,
   "id": "a4be6ad0",
   "metadata": {},
   "outputs": [],
   "source": [
    "# Declaração das restrições:\n",
    "\n",
    "def regra_restricao_mo(mod, i):\n",
    "    return sum(mod.a[i,j] * mod.x[j] for j in mod.J) <= mod.b[i]"
   ]
  },
  {
   "cell_type": "code",
   "execution_count": 23,
   "id": "1d5b0339",
   "metadata": {},
   "outputs": [],
   "source": [
    "modelo.disponibilidade_mo = pyo.Constraint(modelo.I, rule=regra_restricao_mo)"
   ]
  },
  {
   "cell_type": "code",
   "execution_count": 24,
   "id": "8e958a07",
   "metadata": {},
   "outputs": [
    {
     "name": "stdout",
     "output_type": "stream",
     "text": [
      "1 Set Declarations\n",
      "    a_index : Size=1, Index=None, Ordered=True\n",
      "        Key  : Dimen : Domain : Size : Members\n",
      "        None :     2 :    I*J :    6 : {(1, 1), (1, 2), (2, 1), (2, 2), (3, 1), (3, 2)}\n",
      "\n",
      "2 RangeSet Declarations\n",
      "    I : Dimen=1, Size=3, Bounds=(1, 3)\n",
      "        Key  : Finite : Members\n",
      "        None :   True :   [1:3]\n",
      "    J : Dimen=1, Size=2, Bounds=(1, 2)\n",
      "        Key  : Finite : Members\n",
      "        None :   True :   [1:2]\n",
      "\n",
      "3 Param Declarations\n",
      "    a : Size=6, Index=a_index, Domain=Any, Default=None, Mutable=False\n",
      "        Key    : Value\n",
      "        (1, 1) :  0.25\n",
      "        (1, 2) :   0.5\n",
      "        (2, 1) :   0.1\n",
      "        (2, 2) :  0.75\n",
      "        (3, 1) :   0.1\n",
      "        (3, 2) :   0.4\n",
      "    b : Size=3, Index=I, Domain=Any, Default=None, Mutable=False\n",
      "        Key : Value\n",
      "          1 :    36\n",
      "          2 :    22\n",
      "          3 :    15\n",
      "    c : Size=2, Index=J, Domain=Any, Default=None, Mutable=False\n",
      "        Key : Value\n",
      "          1 :    12\n",
      "          2 :    60\n",
      "\n",
      "1 Var Declarations\n",
      "    x : Size=2, Index=J\n",
      "        Key : Lower : Value : Upper : Fixed : Stale : Domain\n",
      "          1 :     0 :  None :  None : False :  True : NonNegativeReals\n",
      "          2 :     0 :  None :  None : False :  True : NonNegativeReals\n",
      "\n",
      "1 Objective Declarations\n",
      "    z : Size=1, Index=None, Active=True\n",
      "        Key  : Active : Sense    : Expression\n",
      "        None :   True : maximize : 12*x[1] + 60*x[2]\n",
      "\n",
      "1 Constraint Declarations\n",
      "    disponibilidade_mo : Size=3, Index=I, Active=True\n",
      "        Key : Lower : Body                 : Upper : Active\n",
      "          1 :  -Inf : 0.25*x[1] + 0.5*x[2] :  36.0 :   True\n",
      "          2 :  -Inf : 0.1*x[1] + 0.75*x[2] :  22.0 :   True\n",
      "          3 :  -Inf :  0.1*x[1] + 0.4*x[2] :  15.0 :   True\n",
      "\n",
      "9 Declarations: I J c a_index a b x z disponibilidade_mo\n"
     ]
    }
   ],
   "source": [
    "modelo.pprint()"
   ]
  },
  {
   "cell_type": "markdown",
   "id": "5bc1fbec",
   "metadata": {},
   "source": [
    "# Solução"
   ]
  },
  {
   "cell_type": "code",
   "execution_count": 25,
   "id": "8f9eefe7",
   "metadata": {},
   "outputs": [],
   "source": [
    "resultado = pyo.SolverFactory('glpk').solve(modelo) \n",
    "# resultado = pyo.SolverFactory('gurobi').solve(modelo)"
   ]
  },
  {
   "cell_type": "code",
   "execution_count": 26,
   "id": "25a46bef",
   "metadata": {},
   "outputs": [
    {
     "name": "stdout",
     "output_type": "stream",
     "text": [
      "# ==========================================================\n",
      "# = Solver Results                                         =\n",
      "# ==========================================================\n",
      "# ----------------------------------------------------------\n",
      "#   Problem Information\n",
      "# ----------------------------------------------------------\n",
      "Problem: \n",
      "- Name: unknown\n",
      "  Lower bound: 2040.0\n",
      "  Upper bound: 2040.0\n",
      "  Number of objectives: 1\n",
      "  Number of constraints: 4\n",
      "  Number of variables: 3\n",
      "  Number of nonzeros: 7\n",
      "  Sense: maximize\n",
      "# ----------------------------------------------------------\n",
      "#   Solver Information\n",
      "# ----------------------------------------------------------\n",
      "Solver: \n",
      "- Status: ok\n",
      "  Termination condition: optimal\n",
      "  Statistics: \n",
      "    Branch and bound: \n",
      "      Number of bounded subproblems: 0\n",
      "      Number of created subproblems: 0\n",
      "  Error rc: 0\n",
      "  Time: 0.015282869338989258\n",
      "# ----------------------------------------------------------\n",
      "#   Solution Information\n",
      "# ----------------------------------------------------------\n",
      "Solution: \n",
      "- number of solutions: 0\n",
      "  number of solutions displayed: 0\n"
     ]
    }
   ],
   "source": [
    "resultado.write()"
   ]
  },
  {
   "cell_type": "code",
   "execution_count": 27,
   "id": "a851ffdd",
   "metadata": {},
   "outputs": [
    {
     "name": "stdout",
     "output_type": "stream",
     "text": [
      "x : Size=2, Index=J\n",
      "    Key : Lower : Value : Upper : Fixed : Stale : Domain\n",
      "      1 :     0 :  70.0 :  None : False : False : NonNegativeReals\n",
      "      2 :     0 :  20.0 :  None : False : False : NonNegativeReals\n"
     ]
    }
   ],
   "source": [
    "modelo.x.pprint()"
   ]
  },
  {
   "cell_type": "code",
   "execution_count": 28,
   "id": "872f790f",
   "metadata": {},
   "outputs": [
    {
     "data": {
      "text/plain": [
       "70.0"
      ]
     },
     "execution_count": 28,
     "metadata": {},
     "output_type": "execute_result"
    }
   ],
   "source": [
    "modelo.x[1]()"
   ]
  },
  {
   "cell_type": "code",
   "execution_count": 29,
   "id": "9bde0d6e",
   "metadata": {},
   "outputs": [
    {
     "data": {
      "text/plain": [
       "20.0"
      ]
     },
     "execution_count": 29,
     "metadata": {},
     "output_type": "execute_result"
    }
   ],
   "source": [
    "modelo.x[2]()"
   ]
  },
  {
   "cell_type": "code",
   "execution_count": 30,
   "id": "39ccb869",
   "metadata": {},
   "outputs": [
    {
     "data": {
      "text/plain": [
       "2040.0"
      ]
     },
     "execution_count": 30,
     "metadata": {},
     "output_type": "execute_result"
    }
   ],
   "source": [
    "modelo.z()"
   ]
  }
 ],
 "metadata": {
  "kernelspec": {
   "display_name": "Python 3 (ipykernel)",
   "language": "python",
   "name": "python3"
  },
  "language_info": {
   "codemirror_mode": {
    "name": "ipython",
    "version": 3
   },
   "file_extension": ".py",
   "mimetype": "text/x-python",
   "name": "python",
   "nbconvert_exporter": "python",
   "pygments_lexer": "ipython3",
   "version": "3.8.12"
  }
 },
 "nbformat": 4,
 "nbformat_minor": 5
}
