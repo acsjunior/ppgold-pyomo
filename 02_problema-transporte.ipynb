{
 "cells": [
  {
   "cell_type": "markdown",
   "id": "879136e1",
   "metadata": {},
   "source": [
    "# Problema\n",
    "\n",
    "(Belfiore e Fávero) A Karpet Ltda é uma empresa fabricante de autopeças, cujas sedes estão localizadas em Osasco, Sorocaba e São Sebastião. Seus clientes encontram-se em São Paulo, Rio de Janeiro e Curitiba. Os custos unitários de transporte de cada origem para cada destino, assim como a capacidade de cada fornecedor e a demanda de cada cliente, encontram-se na tabela abaixo. \n",
    "O objetivo é atender a demanda de cada consumidor final, respeitando as capacidades de fornecimento, de forma a minimizar o custo total de transporte. Modelar o problema de transporte.\n",
    "\n",
    "| Origem | São Paulo | Rio de Janeiro | Curitiba |  Capacidade |\n",
    "| --- | --- | --- | --- | --- | \n",
    "| Osasco | 12 | 22 | 30 | **100** |\n",
    "| Sorocaba | 18 | 24 | 32 | **140** |\n",
    "| São Sebastião | 22 | 15 | 34 | **160** |\n",
    "| Demanda | **120** | **130** | **150** | \n",
    "\n",
    "<hr>"
   ]
  },
  {
   "cell_type": "markdown",
   "id": "5747eb4f",
   "metadata": {},
   "source": [
    "# Formulação genérica\n",
    "\n",
    "### Índices / Conjuntos\n",
    "\n",
    "$I \\colon \\text{Conjunto de fornecedores}, \\{1, 2,\\ldots, m\\}$\n",
    "\n",
    "$J \\colon \\text{Conjunto de consumidores}, \\{1, 2, \\ldots, n\\}$\n",
    "\n",
    "\n",
    "### Parâmetros\n",
    "\n",
    "$c_{ij} \\colon \\text{Custo unitário de transporte do fornecedor } i \\in I \\text{ para o consumidor } j \\in J$\n",
    "\n",
    "$a_i \\colon \\text{Capacidade de abastecimento do fornecedor } i \\in I$\n",
    "\n",
    "$b_j \\colon \\text{Demanda do consumidor } j \\in J$\n",
    " \n",
    "\n",
    "\n",
    "### Variáveis de decisão\n",
    "\n",
    "$x_{ij} \\colon \\text{Quantidades transportadas do fornecedor } i \\in I \\text{ para o consumidor }j \\in J$\n",
    "\n",
    "\n",
    "### Formulação matemática\n",
    "\n",
    "$\\text{min }z = \\sum\\limits_{i \\in I} \\sum\\limits_{j \\in J} c_{ij} x_{ij}$\n",
    "\n",
    "sujeito a\n",
    "\n",
    "$\\sum\\limits_{j \\in J} x_{ij} \\leq a_{i}, \\forall \\; i \\in I$\n",
    "\n",
    "$\\sum\\limits_{i \\in I} x_{ij} \\geq b_{j}, \\forall \\; j \\in J$\n",
    "\n",
    "$x_{ij} \\geq 0 \\;\\; \\forall i \\in I \\text{, }j \\in J$"
   ]
  },
  {
   "cell_type": "markdown",
   "id": "03d5c03c",
   "metadata": {},
   "source": [
    "# Preparação dos dados de entrada"
   ]
  },
  {
   "cell_type": "code",
   "execution_count": 1,
   "id": "5282c06c",
   "metadata": {},
   "outputs": [],
   "source": [
    "custos = [[12, 22, 30], \n",
    "          [18, 24, 32], \n",
    "          [22, 15, 34]]\n",
    "\n",
    "capacidade = [100, 140, 160]\n",
    "\n",
    "demanda = [120, 130, 150]"
   ]
  },
  {
   "cell_type": "code",
   "execution_count": 2,
   "id": "4006901c",
   "metadata": {},
   "outputs": [],
   "source": [
    "m = len(capacidade)\n",
    "n = len(demanda)"
   ]
  },
  {
   "cell_type": "markdown",
   "id": "0890002c",
   "metadata": {},
   "source": [
    "# Modelo computacional"
   ]
  },
  {
   "cell_type": "code",
   "execution_count": 3,
   "id": "ed9939d1",
   "metadata": {},
   "outputs": [],
   "source": [
    "import pyomo.environ as pyo"
   ]
  },
  {
   "cell_type": "code",
   "execution_count": 4,
   "id": "83a32d48",
   "metadata": {},
   "outputs": [],
   "source": [
    "# Declaração do modelo:\n",
    "\n",
    "modelo = pyo.ConcreteModel()"
   ]
  },
  {
   "cell_type": "code",
   "execution_count": 5,
   "id": "6b1eb5f8",
   "metadata": {},
   "outputs": [],
   "source": [
    "# Declaração dos conjuntos:\n",
    "\n",
    "modelo.I = pyo.RangeSet(m)\n",
    "modelo.J = pyo.RangeSet(n)"
   ]
  },
  {
   "cell_type": "code",
   "execution_count": 6,
   "id": "697bb3c4",
   "metadata": {},
   "outputs": [
    {
     "name": "stdout",
     "output_type": "stream",
     "text": [
      "2 RangeSet Declarations\n",
      "    I : Dimen=1, Size=3, Bounds=(1, 3)\n",
      "        Key  : Finite : Members\n",
      "        None :   True :   [1:3]\n",
      "    J : Dimen=1, Size=3, Bounds=(1, 3)\n",
      "        Key  : Finite : Members\n",
      "        None :   True :   [1:3]\n",
      "\n",
      "2 Declarations: I J\n"
     ]
    }
   ],
   "source": [
    "modelo.pprint()"
   ]
  },
  {
   "cell_type": "code",
   "execution_count": 7,
   "id": "f3a81228",
   "metadata": {},
   "outputs": [],
   "source": [
    "# Declaração dos parâmetros:\n",
    "\n",
    "modelo.c = pyo.Param(modelo.I, modelo.J, initialize=lambda modelo, i, j: custos[i-1][j-1])"
   ]
  },
  {
   "cell_type": "code",
   "execution_count": 8,
   "id": "d5b101f6",
   "metadata": {},
   "outputs": [],
   "source": [
    "modelo.a = pyo.Param(modelo.I, initialize=lambda modelo, i: capacidade[i-1])"
   ]
  },
  {
   "cell_type": "code",
   "execution_count": 9,
   "id": "de5ce021",
   "metadata": {},
   "outputs": [],
   "source": [
    "modelo.b = pyo.Param(modelo.J, initialize=lambda modelo, j: demanda[j-1])"
   ]
  },
  {
   "cell_type": "code",
   "execution_count": 10,
   "id": "43c6dd84",
   "metadata": {},
   "outputs": [
    {
     "name": "stdout",
     "output_type": "stream",
     "text": [
      "1 Set Declarations\n",
      "    c_index : Size=1, Index=None, Ordered=True\n",
      "        Key  : Dimen : Domain : Size : Members\n",
      "        None :     2 :    I*J :    9 : {(1, 1), (1, 2), (1, 3), (2, 1), (2, 2), (2, 3), (3, 1), (3, 2), (3, 3)}\n",
      "\n",
      "2 RangeSet Declarations\n",
      "    I : Dimen=1, Size=3, Bounds=(1, 3)\n",
      "        Key  : Finite : Members\n",
      "        None :   True :   [1:3]\n",
      "    J : Dimen=1, Size=3, Bounds=(1, 3)\n",
      "        Key  : Finite : Members\n",
      "        None :   True :   [1:3]\n",
      "\n",
      "3 Param Declarations\n",
      "    a : Size=3, Index=I, Domain=Any, Default=None, Mutable=False\n",
      "        Key : Value\n",
      "          1 :   100\n",
      "          2 :   140\n",
      "          3 :   160\n",
      "    b : Size=3, Index=J, Domain=Any, Default=None, Mutable=False\n",
      "        Key : Value\n",
      "          1 :   120\n",
      "          2 :   130\n",
      "          3 :   150\n",
      "    c : Size=9, Index=c_index, Domain=Any, Default=None, Mutable=False\n",
      "        Key    : Value\n",
      "        (1, 1) :    12\n",
      "        (1, 2) :    22\n",
      "        (1, 3) :    30\n",
      "        (2, 1) :    18\n",
      "        (2, 2) :    24\n",
      "        (2, 3) :    32\n",
      "        (3, 1) :    22\n",
      "        (3, 2) :    15\n",
      "        (3, 3) :    34\n",
      "\n",
      "6 Declarations: I J c_index c a b\n"
     ]
    }
   ],
   "source": [
    "modelo.pprint()"
   ]
  },
  {
   "cell_type": "code",
   "execution_count": 11,
   "id": "df2d8675",
   "metadata": {},
   "outputs": [],
   "source": [
    "# Declaração das variáveis de decisão:\n",
    "\n",
    "modelo.x = pyo.Var(modelo.I, modelo.J, within=pyo.NonNegativeReals)"
   ]
  },
  {
   "cell_type": "code",
   "execution_count": 12,
   "id": "08a9feeb",
   "metadata": {},
   "outputs": [
    {
     "name": "stdout",
     "output_type": "stream",
     "text": [
      "2 Set Declarations\n",
      "    c_index : Size=1, Index=None, Ordered=True\n",
      "        Key  : Dimen : Domain : Size : Members\n",
      "        None :     2 :    I*J :    9 : {(1, 1), (1, 2), (1, 3), (2, 1), (2, 2), (2, 3), (3, 1), (3, 2), (3, 3)}\n",
      "    x_index : Size=1, Index=None, Ordered=True\n",
      "        Key  : Dimen : Domain : Size : Members\n",
      "        None :     2 :    I*J :    9 : {(1, 1), (1, 2), (1, 3), (2, 1), (2, 2), (2, 3), (3, 1), (3, 2), (3, 3)}\n",
      "\n",
      "2 RangeSet Declarations\n",
      "    I : Dimen=1, Size=3, Bounds=(1, 3)\n",
      "        Key  : Finite : Members\n",
      "        None :   True :   [1:3]\n",
      "    J : Dimen=1, Size=3, Bounds=(1, 3)\n",
      "        Key  : Finite : Members\n",
      "        None :   True :   [1:3]\n",
      "\n",
      "3 Param Declarations\n",
      "    a : Size=3, Index=I, Domain=Any, Default=None, Mutable=False\n",
      "        Key : Value\n",
      "          1 :   100\n",
      "          2 :   140\n",
      "          3 :   160\n",
      "    b : Size=3, Index=J, Domain=Any, Default=None, Mutable=False\n",
      "        Key : Value\n",
      "          1 :   120\n",
      "          2 :   130\n",
      "          3 :   150\n",
      "    c : Size=9, Index=c_index, Domain=Any, Default=None, Mutable=False\n",
      "        Key    : Value\n",
      "        (1, 1) :    12\n",
      "        (1, 2) :    22\n",
      "        (1, 3) :    30\n",
      "        (2, 1) :    18\n",
      "        (2, 2) :    24\n",
      "        (2, 3) :    32\n",
      "        (3, 1) :    22\n",
      "        (3, 2) :    15\n",
      "        (3, 3) :    34\n",
      "\n",
      "1 Var Declarations\n",
      "    x : Size=9, Index=x_index\n",
      "        Key    : Lower : Value : Upper : Fixed : Stale : Domain\n",
      "        (1, 1) :     0 :  None :  None : False :  True : NonNegativeReals\n",
      "        (1, 2) :     0 :  None :  None : False :  True : NonNegativeReals\n",
      "        (1, 3) :     0 :  None :  None : False :  True : NonNegativeReals\n",
      "        (2, 1) :     0 :  None :  None : False :  True : NonNegativeReals\n",
      "        (2, 2) :     0 :  None :  None : False :  True : NonNegativeReals\n",
      "        (2, 3) :     0 :  None :  None : False :  True : NonNegativeReals\n",
      "        (3, 1) :     0 :  None :  None : False :  True : NonNegativeReals\n",
      "        (3, 2) :     0 :  None :  None : False :  True : NonNegativeReals\n",
      "        (3, 3) :     0 :  None :  None : False :  True : NonNegativeReals\n",
      "\n",
      "8 Declarations: I J c_index c a b x_index x\n"
     ]
    }
   ],
   "source": [
    "modelo.pprint()"
   ]
  },
  {
   "cell_type": "markdown",
   "id": "a2f630d7",
   "metadata": {},
   "source": [
    "$\\text{min }z = \\sum\\limits_{i \\in I} \\sum\\limits_{j \\in J} c_{ij} x_{ij}$"
   ]
  },
  {
   "cell_type": "code",
   "execution_count": 13,
   "id": "123c88d1",
   "metadata": {},
   "outputs": [],
   "source": [
    "# Declaração da função objetivo:\n",
    "\n",
    "def regra_fo(mod):\n",
    "    return pyo.summation(mod.c, mod.x)"
   ]
  },
  {
   "cell_type": "code",
   "execution_count": 14,
   "id": "4c4b5e90",
   "metadata": {},
   "outputs": [],
   "source": [
    "modelo.z = pyo.Objective(rule=regra_fo) # Default: minimize"
   ]
  },
  {
   "cell_type": "code",
   "execution_count": 15,
   "id": "7f5c5a91",
   "metadata": {},
   "outputs": [
    {
     "name": "stdout",
     "output_type": "stream",
     "text": [
      "2 Set Declarations\n",
      "    c_index : Size=1, Index=None, Ordered=True\n",
      "        Key  : Dimen : Domain : Size : Members\n",
      "        None :     2 :    I*J :    9 : {(1, 1), (1, 2), (1, 3), (2, 1), (2, 2), (2, 3), (3, 1), (3, 2), (3, 3)}\n",
      "    x_index : Size=1, Index=None, Ordered=True\n",
      "        Key  : Dimen : Domain : Size : Members\n",
      "        None :     2 :    I*J :    9 : {(1, 1), (1, 2), (1, 3), (2, 1), (2, 2), (2, 3), (3, 1), (3, 2), (3, 3)}\n",
      "\n",
      "2 RangeSet Declarations\n",
      "    I : Dimen=1, Size=3, Bounds=(1, 3)\n",
      "        Key  : Finite : Members\n",
      "        None :   True :   [1:3]\n",
      "    J : Dimen=1, Size=3, Bounds=(1, 3)\n",
      "        Key  : Finite : Members\n",
      "        None :   True :   [1:3]\n",
      "\n",
      "3 Param Declarations\n",
      "    a : Size=3, Index=I, Domain=Any, Default=None, Mutable=False\n",
      "        Key : Value\n",
      "          1 :   100\n",
      "          2 :   140\n",
      "          3 :   160\n",
      "    b : Size=3, Index=J, Domain=Any, Default=None, Mutable=False\n",
      "        Key : Value\n",
      "          1 :   120\n",
      "          2 :   130\n",
      "          3 :   150\n",
      "    c : Size=9, Index=c_index, Domain=Any, Default=None, Mutable=False\n",
      "        Key    : Value\n",
      "        (1, 1) :    12\n",
      "        (1, 2) :    22\n",
      "        (1, 3) :    30\n",
      "        (2, 1) :    18\n",
      "        (2, 2) :    24\n",
      "        (2, 3) :    32\n",
      "        (3, 1) :    22\n",
      "        (3, 2) :    15\n",
      "        (3, 3) :    34\n",
      "\n",
      "1 Var Declarations\n",
      "    x : Size=9, Index=x_index\n",
      "        Key    : Lower : Value : Upper : Fixed : Stale : Domain\n",
      "        (1, 1) :     0 :  None :  None : False :  True : NonNegativeReals\n",
      "        (1, 2) :     0 :  None :  None : False :  True : NonNegativeReals\n",
      "        (1, 3) :     0 :  None :  None : False :  True : NonNegativeReals\n",
      "        (2, 1) :     0 :  None :  None : False :  True : NonNegativeReals\n",
      "        (2, 2) :     0 :  None :  None : False :  True : NonNegativeReals\n",
      "        (2, 3) :     0 :  None :  None : False :  True : NonNegativeReals\n",
      "        (3, 1) :     0 :  None :  None : False :  True : NonNegativeReals\n",
      "        (3, 2) :     0 :  None :  None : False :  True : NonNegativeReals\n",
      "        (3, 3) :     0 :  None :  None : False :  True : NonNegativeReals\n",
      "\n",
      "1 Objective Declarations\n",
      "    z : Size=1, Index=None, Active=True\n",
      "        Key  : Active : Sense    : Expression\n",
      "        None :   True : minimize : 12*x[1,1] + 22*x[1,2] + 30*x[1,3] + 18*x[2,1] + 24*x[2,2] + 32*x[2,3] + 22*x[3,1] + 15*x[3,2] + 34*x[3,3]\n",
      "\n",
      "9 Declarations: I J c_index c a b x_index x z\n"
     ]
    }
   ],
   "source": [
    "modelo.pprint()"
   ]
  },
  {
   "cell_type": "markdown",
   "id": "b26a9735",
   "metadata": {},
   "source": [
    "$\\sum\\limits_{j \\in J} x_{ij} \\leq a_{i}, \\forall \\; i \\in I$"
   ]
  },
  {
   "cell_type": "code",
   "execution_count": 16,
   "id": "1fd6dbae",
   "metadata": {},
   "outputs": [],
   "source": [
    "# Declaração das restrições:\n",
    "\n",
    "def regra_restr_capacidade(mod, i):\n",
    "    return sum(mod.x[i,j] for j in mod.J) <= mod.a[i]\n",
    "\n",
    "modelo.restr_capacidade = pyo.Constraint(modelo.I, rule=regra_restr_capacidade)"
   ]
  },
  {
   "cell_type": "markdown",
   "id": "46599ca6",
   "metadata": {},
   "source": [
    "$\\sum\\limits_{i \\in I} x_{ij} \\geq b_{j}, \\forall \\; j \\in J$"
   ]
  },
  {
   "cell_type": "code",
   "execution_count": 17,
   "id": "3d263a5d",
   "metadata": {},
   "outputs": [],
   "source": [
    "def regra_restr_demanda(mod, j):\n",
    "    return sum(mod.x[i,j] for i in mod.I) >= mod.b[j]\n",
    "\n",
    "modelo.restr_demanda = pyo.Constraint(modelo.J, rule=regra_restr_demanda)"
   ]
  },
  {
   "cell_type": "code",
   "execution_count": 18,
   "id": "86ab5971",
   "metadata": {},
   "outputs": [],
   "source": [
    "resultado = pyo.SolverFactory('glpk').solve(modelo)\n",
    "# resultado = pyo.SolverFactory('gurobi').solve(modelo)"
   ]
  },
  {
   "cell_type": "code",
   "execution_count": 19,
   "id": "65eb521f",
   "metadata": {},
   "outputs": [
    {
     "name": "stdout",
     "output_type": "stream",
     "text": [
      "# ==========================================================\n",
      "# = Solver Results                                         =\n",
      "# ==========================================================\n",
      "# ----------------------------------------------------------\n",
      "#   Problem Information\n",
      "# ----------------------------------------------------------\n",
      "Problem: \n",
      "- Name: unknown\n",
      "  Lower bound: 8370.0\n",
      "  Upper bound: 8370.0\n",
      "  Number of objectives: 1\n",
      "  Number of constraints: 7\n",
      "  Number of variables: 10\n",
      "  Number of nonzeros: 19\n",
      "  Sense: minimize\n",
      "# ----------------------------------------------------------\n",
      "#   Solver Information\n",
      "# ----------------------------------------------------------\n",
      "Solver: \n",
      "- Status: ok\n",
      "  Termination condition: optimal\n",
      "  Statistics: \n",
      "    Branch and bound: \n",
      "      Number of bounded subproblems: 0\n",
      "      Number of created subproblems: 0\n",
      "  Error rc: 0\n",
      "  Time: 0.013180017471313477\n",
      "# ----------------------------------------------------------\n",
      "#   Solution Information\n",
      "# ----------------------------------------------------------\n",
      "Solution: \n",
      "- number of solutions: 0\n",
      "  number of solutions displayed: 0\n"
     ]
    }
   ],
   "source": [
    "resultado.write()"
   ]
  },
  {
   "cell_type": "code",
   "execution_count": 20,
   "id": "c823bbde",
   "metadata": {},
   "outputs": [
    {
     "name": "stdout",
     "output_type": "stream",
     "text": [
      "x : Size=9, Index=x_index\n",
      "    Key    : Lower : Value : Upper : Fixed : Stale : Domain\n",
      "    (1, 1) :     0 : 100.0 :  None : False : False : NonNegativeReals\n",
      "    (1, 2) :     0 :   0.0 :  None : False : False : NonNegativeReals\n",
      "    (1, 3) :     0 :   0.0 :  None : False : False : NonNegativeReals\n",
      "    (2, 1) :     0 :  20.0 :  None : False : False : NonNegativeReals\n",
      "    (2, 2) :     0 :   0.0 :  None : False : False : NonNegativeReals\n",
      "    (2, 3) :     0 : 120.0 :  None : False : False : NonNegativeReals\n",
      "    (3, 1) :     0 :   0.0 :  None : False : False : NonNegativeReals\n",
      "    (3, 2) :     0 : 130.0 :  None : False : False : NonNegativeReals\n",
      "    (3, 3) :     0 :  30.0 :  None : False : False : NonNegativeReals\n"
     ]
    }
   ],
   "source": [
    "modelo.x.pprint()"
   ]
  },
  {
   "cell_type": "code",
   "execution_count": 21,
   "id": "58c82858",
   "metadata": {},
   "outputs": [
    {
     "name": "stdout",
     "output_type": "stream",
     "text": [
      "1 1\n",
      "1 2\n",
      "1 3\n",
      "2 1\n",
      "2 2\n",
      "2 3\n",
      "3 1\n",
      "3 2\n",
      "3 3\n"
     ]
    }
   ],
   "source": [
    "for i in modelo.I:\n",
    "    for j in modelo.J:\n",
    "        print(i,j)"
   ]
  },
  {
   "cell_type": "code",
   "execution_count": 22,
   "id": "318510fe",
   "metadata": {},
   "outputs": [
    {
     "data": {
      "text/plain": [
       "100.0"
      ]
     },
     "execution_count": 22,
     "metadata": {},
     "output_type": "execute_result"
    }
   ],
   "source": [
    "modelo.x[1,1]()"
   ]
  },
  {
   "cell_type": "code",
   "execution_count": 23,
   "id": "c7db5a1f",
   "metadata": {},
   "outputs": [
    {
     "name": "stdout",
     "output_type": "stream",
     "text": [
      "Da origem 1 para o destino 1, transportar 100.0 unidades\n",
      "Da origem 1 para o destino 2, transportar 0.0 unidades\n",
      "Da origem 1 para o destino 3, transportar 0.0 unidades\n",
      "Da origem 2 para o destino 1, transportar 20.0 unidades\n",
      "Da origem 2 para o destino 2, transportar 0.0 unidades\n",
      "Da origem 2 para o destino 3, transportar 120.0 unidades\n",
      "Da origem 3 para o destino 1, transportar 0.0 unidades\n",
      "Da origem 3 para o destino 2, transportar 130.0 unidades\n",
      "Da origem 3 para o destino 3, transportar 30.0 unidades\n"
     ]
    }
   ],
   "source": [
    "for i in modelo.I:\n",
    "    for j in modelo.J:\n",
    "        print(f'Da origem {i} para o destino {j}, transportar {modelo.x[i,j]()} unidades')"
   ]
  },
  {
   "cell_type": "code",
   "execution_count": 24,
   "id": "c1bf2543",
   "metadata": {},
   "outputs": [],
   "source": [
    "nomes_origens = {1: 'Osasco', 2: 'Sorocaba', 3: 'São Sebastião'}"
   ]
  },
  {
   "cell_type": "code",
   "execution_count": 25,
   "id": "5f06c109",
   "metadata": {},
   "outputs": [],
   "source": [
    "nomes_destinos = {1: 'São Paulo', 2: 'Rio de Janeiro', 3: 'Curitiba'}"
   ]
  },
  {
   "cell_type": "code",
   "execution_count": 26,
   "id": "9d388969",
   "metadata": {},
   "outputs": [
    {
     "name": "stdout",
     "output_type": "stream",
     "text": [
      "De Osasco para São Paulo, transportar 100.0 unidades\n",
      "De Osasco para Rio de Janeiro, transportar 0.0 unidades\n",
      "De Osasco para Curitiba, transportar 0.0 unidades\n",
      "De Sorocaba para São Paulo, transportar 20.0 unidades\n",
      "De Sorocaba para Rio de Janeiro, transportar 0.0 unidades\n",
      "De Sorocaba para Curitiba, transportar 120.0 unidades\n",
      "De São Sebastião para São Paulo, transportar 0.0 unidades\n",
      "De São Sebastião para Rio de Janeiro, transportar 130.0 unidades\n",
      "De São Sebastião para Curitiba, transportar 30.0 unidades\n"
     ]
    }
   ],
   "source": [
    "for i in modelo.I:\n",
    "    for j in modelo.J:\n",
    "        print(f'De {nomes_origens[i]} para {nomes_destinos[j]}, transportar {modelo.x[i,j]()} unidades')"
   ]
  },
  {
   "cell_type": "code",
   "execution_count": 27,
   "id": "94a7198e",
   "metadata": {},
   "outputs": [
    {
     "name": "stdout",
     "output_type": "stream",
     "text": [
      "De Osasco para São Paulo, transportar 100.0 unidades\n",
      "De Sorocaba para São Paulo, transportar 20.0 unidades\n",
      "De Sorocaba para Curitiba, transportar 120.0 unidades\n",
      "De São Sebastião para Rio de Janeiro, transportar 130.0 unidades\n",
      "De São Sebastião para Curitiba, transportar 30.0 unidades\n"
     ]
    }
   ],
   "source": [
    "for i in modelo.I:\n",
    "    for j in modelo.J:\n",
    "        quantidade = modelo.x[i,j]()\n",
    "        if quantidade > 0:\n",
    "            print(f'De {nomes_origens[i]} para {nomes_destinos[j]}, transportar {quantidade} unidades')"
   ]
  },
  {
   "cell_type": "code",
   "execution_count": 28,
   "id": "61fbf834",
   "metadata": {},
   "outputs": [
    {
     "name": "stdout",
     "output_type": "stream",
     "text": [
      "De Osasco para São Paulo, transportar 100.0 unidades. Custo: 1200.0\n",
      "De Sorocaba para São Paulo, transportar 20.0 unidades. Custo: 360.0\n",
      "De Sorocaba para Curitiba, transportar 120.0 unidades. Custo: 3840.0\n",
      "De São Sebastião para Rio de Janeiro, transportar 130.0 unidades. Custo: 1950.0\n",
      "De São Sebastião para Curitiba, transportar 30.0 unidades. Custo: 1020.0\n",
      "\n",
      "\n",
      "Custo total: 8370.0\n"
     ]
    }
   ],
   "source": [
    "for i in modelo.I:\n",
    "    for j in modelo.J:\n",
    "        quantidade = modelo.x[i,j]()\n",
    "        custo = quantidade * modelo.c[i,j]\n",
    "        if quantidade > 0:\n",
    "            print(f'De {nomes_origens[i]} para {nomes_destinos[j]}, transportar {quantidade} unidades. Custo: {custo}')\n",
    "            \n",
    "print('\\n')\n",
    "print(f'Custo total: {modelo.z()}')"
   ]
  },
  {
   "cell_type": "code",
   "execution_count": null,
   "id": "bc9a257a",
   "metadata": {},
   "outputs": [],
   "source": []
  }
 ],
 "metadata": {
  "kernelspec": {
   "display_name": "Python 3 (ipykernel)",
   "language": "python",
   "name": "python3"
  },
  "language_info": {
   "codemirror_mode": {
    "name": "ipython",
    "version": 3
   },
   "file_extension": ".py",
   "mimetype": "text/x-python",
   "name": "python",
   "nbconvert_exporter": "python",
   "pygments_lexer": "ipython3",
   "version": "3.8.12"
  }
 },
 "nbformat": 4,
 "nbformat_minor": 5
}
