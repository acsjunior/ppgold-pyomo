{
 "cells": [
  {
   "cell_type": "markdown",
   "id": "b68e622f",
   "metadata": {},
   "source": [
    "# Manipulação de vetores e matrizes"
   ]
  },
  {
   "cell_type": "markdown",
   "id": "5cc11069",
   "metadata": {},
   "source": [
    "$x = 1$"
   ]
  },
  {
   "cell_type": "code",
   "execution_count": 1,
   "id": "e5e79442",
   "metadata": {},
   "outputs": [],
   "source": [
    "x = 1"
   ]
  },
  {
   "cell_type": "code",
   "execution_count": 2,
   "id": "a9fd28f3",
   "metadata": {},
   "outputs": [
    {
     "data": {
      "text/plain": [
       "1"
      ]
     },
     "execution_count": 2,
     "metadata": {},
     "output_type": "execute_result"
    }
   ],
   "source": [
    "x"
   ]
  },
  {
   "cell_type": "markdown",
   "id": "1af7cdcd",
   "metadata": {},
   "source": [
    "$\\mathbf{x} = \\begin{bmatrix}\n",
    "10 \\\\ \n",
    "20 \\\\ \n",
    "30 \\\\\n",
    "40\n",
    "\\end{bmatrix}$"
   ]
  },
  {
   "cell_type": "code",
   "execution_count": 3,
   "id": "0801cf1c",
   "metadata": {},
   "outputs": [],
   "source": [
    "x = [10, 20, 30, 40]"
   ]
  },
  {
   "cell_type": "code",
   "execution_count": 4,
   "id": "faf4f945",
   "metadata": {},
   "outputs": [
    {
     "data": {
      "text/plain": [
       "[10, 20, 30, 40]"
      ]
     },
     "execution_count": 4,
     "metadata": {},
     "output_type": "execute_result"
    }
   ],
   "source": [
    "x"
   ]
  },
  {
   "cell_type": "markdown",
   "id": "8ffd9db7",
   "metadata": {},
   "source": [
    "$x_1$"
   ]
  },
  {
   "cell_type": "code",
   "execution_count": 5,
   "id": "2951ebf7",
   "metadata": {
    "scrolled": true
   },
   "outputs": [
    {
     "data": {
      "text/plain": [
       "10"
      ]
     },
     "execution_count": 5,
     "metadata": {},
     "output_type": "execute_result"
    }
   ],
   "source": [
    "x[0]"
   ]
  },
  {
   "cell_type": "markdown",
   "id": "a8995682",
   "metadata": {},
   "source": [
    "$x_3$"
   ]
  },
  {
   "cell_type": "code",
   "execution_count": 6,
   "id": "eccd10d0",
   "metadata": {},
   "outputs": [
    {
     "data": {
      "text/plain": [
       "30"
      ]
     },
     "execution_count": 6,
     "metadata": {},
     "output_type": "execute_result"
    }
   ],
   "source": [
    "x[2]"
   ]
  },
  {
   "cell_type": "markdown",
   "id": "0080da9f",
   "metadata": {},
   "source": [
    "$I \\colon \\{1,2,\\ldots, m\\}$"
   ]
  },
  {
   "cell_type": "code",
   "execution_count": 7,
   "id": "3b10b9c0",
   "metadata": {},
   "outputs": [],
   "source": [
    "m = len(x)"
   ]
  },
  {
   "cell_type": "code",
   "execution_count": 8,
   "id": "759d9518",
   "metadata": {},
   "outputs": [
    {
     "data": {
      "text/plain": [
       "4"
      ]
     },
     "execution_count": 8,
     "metadata": {},
     "output_type": "execute_result"
    }
   ],
   "source": [
    "m"
   ]
  },
  {
   "cell_type": "code",
   "execution_count": 9,
   "id": "ec62e21a",
   "metadata": {},
   "outputs": [],
   "source": [
    "I = range(m)"
   ]
  },
  {
   "cell_type": "code",
   "execution_count": 10,
   "id": "f229a0b2",
   "metadata": {},
   "outputs": [
    {
     "data": {
      "text/plain": [
       "[0, 1, 2, 3]"
      ]
     },
     "execution_count": 10,
     "metadata": {},
     "output_type": "execute_result"
    }
   ],
   "source": [
    "[i for i in I]"
   ]
  },
  {
   "cell_type": "markdown",
   "id": "d73d82fe",
   "metadata": {},
   "source": [
    "$x_i \\;\\; \\forall i \\in I$"
   ]
  },
  {
   "cell_type": "code",
   "execution_count": 11,
   "id": "66863eb1",
   "metadata": {},
   "outputs": [
    {
     "data": {
      "text/plain": [
       "[10, 20, 30, 40]"
      ]
     },
     "execution_count": 11,
     "metadata": {},
     "output_type": "execute_result"
    }
   ],
   "source": [
    "[x[i] for i in I]"
   ]
  },
  {
   "cell_type": "code",
   "execution_count": 12,
   "id": "c2b35f1c",
   "metadata": {},
   "outputs": [],
   "source": [
    "i = 0"
   ]
  },
  {
   "cell_type": "code",
   "execution_count": 13,
   "id": "1f513859",
   "metadata": {},
   "outputs": [
    {
     "data": {
      "text/plain": [
       "10"
      ]
     },
     "execution_count": 13,
     "metadata": {},
     "output_type": "execute_result"
    }
   ],
   "source": [
    "x[i]"
   ]
  },
  {
   "cell_type": "markdown",
   "id": "98838146",
   "metadata": {},
   "source": [
    "$\\sum\\limits_{i \\in I} x_{i}$"
   ]
  },
  {
   "cell_type": "code",
   "execution_count": 14,
   "id": "c72b3627",
   "metadata": {},
   "outputs": [
    {
     "data": {
      "text/plain": [
       "100"
      ]
     },
     "execution_count": 14,
     "metadata": {},
     "output_type": "execute_result"
    }
   ],
   "source": [
    "sum(x)"
   ]
  },
  {
   "cell_type": "code",
   "execution_count": 15,
   "id": "217ae3c8",
   "metadata": {},
   "outputs": [
    {
     "data": {
      "text/plain": [
       "100"
      ]
     },
     "execution_count": 15,
     "metadata": {},
     "output_type": "execute_result"
    }
   ],
   "source": [
    "sum(x[i] for i in I)"
   ]
  },
  {
   "cell_type": "markdown",
   "id": "4af030a8",
   "metadata": {},
   "source": [
    "$\\sum\\limits_{i \\in I} x_{i}, \\;\\; \\forall i \\gt 2$"
   ]
  },
  {
   "cell_type": "code",
   "execution_count": 16,
   "id": "0c8b7b37",
   "metadata": {},
   "outputs": [
    {
     "data": {
      "text/plain": [
       "70"
      ]
     },
     "execution_count": 16,
     "metadata": {},
     "output_type": "execute_result"
    }
   ],
   "source": [
    "sum(x[i] for i in I if i > 1)"
   ]
  },
  {
   "cell_type": "markdown",
   "id": "924a8bcd",
   "metadata": {},
   "source": [
    "$\\mathbf{x} = \\begin{bmatrix}\n",
    "10 & 20 & 30 \\\\ \n",
    "40 & 50 &  60\n",
    "\\end{bmatrix}$"
   ]
  },
  {
   "cell_type": "code",
   "execution_count": 17,
   "id": "caa47d87",
   "metadata": {},
   "outputs": [],
   "source": [
    "x = [[10, 20, 30], \n",
    "     [40, 50, 60]]"
   ]
  },
  {
   "cell_type": "code",
   "execution_count": 18,
   "id": "8ccb0669",
   "metadata": {},
   "outputs": [
    {
     "data": {
      "text/plain": [
       "[[10, 20, 30], [40, 50, 60]]"
      ]
     },
     "execution_count": 18,
     "metadata": {},
     "output_type": "execute_result"
    }
   ],
   "source": [
    "x"
   ]
  },
  {
   "cell_type": "markdown",
   "id": "ebe2cc31",
   "metadata": {},
   "source": [
    "$x_{11}$"
   ]
  },
  {
   "cell_type": "code",
   "execution_count": 19,
   "id": "9e3d1900",
   "metadata": {},
   "outputs": [
    {
     "data": {
      "text/plain": [
       "10"
      ]
     },
     "execution_count": 19,
     "metadata": {},
     "output_type": "execute_result"
    }
   ],
   "source": [
    "x[0][0]"
   ]
  },
  {
   "cell_type": "markdown",
   "id": "60bacd6e",
   "metadata": {},
   "source": [
    "$x_{13}$"
   ]
  },
  {
   "cell_type": "code",
   "execution_count": 20,
   "id": "3de2965b",
   "metadata": {},
   "outputs": [
    {
     "data": {
      "text/plain": [
       "30"
      ]
     },
     "execution_count": 20,
     "metadata": {},
     "output_type": "execute_result"
    }
   ],
   "source": [
    "x[0][2]"
   ]
  },
  {
   "cell_type": "markdown",
   "id": "6f8f1ddc",
   "metadata": {},
   "source": [
    "$I \\colon \\{1,\\ldots, m\\}$\n",
    "\n",
    "$J \\colon \\{1,\\ldots, n\\}$"
   ]
  },
  {
   "cell_type": "code",
   "execution_count": 21,
   "id": "b9d64bc4",
   "metadata": {},
   "outputs": [],
   "source": [
    "m = len(x)"
   ]
  },
  {
   "cell_type": "code",
   "execution_count": 22,
   "id": "c94733c4",
   "metadata": {},
   "outputs": [
    {
     "data": {
      "text/plain": [
       "2"
      ]
     },
     "execution_count": 22,
     "metadata": {},
     "output_type": "execute_result"
    }
   ],
   "source": [
    "m"
   ]
  },
  {
   "cell_type": "code",
   "execution_count": 23,
   "id": "d4f69fb2",
   "metadata": {},
   "outputs": [],
   "source": [
    "n = len(x[0])"
   ]
  },
  {
   "cell_type": "code",
   "execution_count": 24,
   "id": "619095bc",
   "metadata": {},
   "outputs": [
    {
     "data": {
      "text/plain": [
       "3"
      ]
     },
     "execution_count": 24,
     "metadata": {},
     "output_type": "execute_result"
    }
   ],
   "source": [
    "n"
   ]
  },
  {
   "cell_type": "code",
   "execution_count": 25,
   "id": "3e9f7656",
   "metadata": {},
   "outputs": [],
   "source": [
    "I = range(m)"
   ]
  },
  {
   "cell_type": "code",
   "execution_count": 26,
   "id": "4161655b",
   "metadata": {},
   "outputs": [
    {
     "data": {
      "text/plain": [
       "[0, 1]"
      ]
     },
     "execution_count": 26,
     "metadata": {},
     "output_type": "execute_result"
    }
   ],
   "source": [
    "[i for i in I]"
   ]
  },
  {
   "cell_type": "code",
   "execution_count": 27,
   "id": "6eda7991",
   "metadata": {},
   "outputs": [],
   "source": [
    "J = range(n)"
   ]
  },
  {
   "cell_type": "code",
   "execution_count": 28,
   "id": "2857e0a6",
   "metadata": {},
   "outputs": [
    {
     "data": {
      "text/plain": [
       "[0, 1, 2]"
      ]
     },
     "execution_count": 28,
     "metadata": {},
     "output_type": "execute_result"
    }
   ],
   "source": [
    "[j for j in J]"
   ]
  },
  {
   "cell_type": "markdown",
   "id": "18b0bc92",
   "metadata": {},
   "source": [
    "$x_{ij} \\;\\; \\forall i \\in I, \\forall j \\in J$"
   ]
  },
  {
   "cell_type": "code",
   "execution_count": 29,
   "id": "794a8522",
   "metadata": {},
   "outputs": [
    {
     "data": {
      "text/plain": [
       "[10, 20, 30, 40, 50, 60]"
      ]
     },
     "execution_count": 29,
     "metadata": {},
     "output_type": "execute_result"
    }
   ],
   "source": [
    "[x[i][j] for i in I for j in J]"
   ]
  },
  {
   "cell_type": "markdown",
   "id": "f5bf99e5",
   "metadata": {},
   "source": [
    "$x_{ij} \\;\\; \\forall j \\in J, \\forall i \\in I$"
   ]
  },
  {
   "cell_type": "code",
   "execution_count": 30,
   "id": "50f03a27",
   "metadata": {},
   "outputs": [
    {
     "data": {
      "text/plain": [
       "[10, 40, 20, 50, 30, 60]"
      ]
     },
     "execution_count": 30,
     "metadata": {},
     "output_type": "execute_result"
    }
   ],
   "source": [
    "[x[i][j] for j in J for i in I]"
   ]
  },
  {
   "cell_type": "markdown",
   "id": "c6c66e48",
   "metadata": {},
   "source": [
    "$\\sum\\limits_{i \\in I} x_{ij}, \\;\\; \\forall j \\in J$"
   ]
  },
  {
   "cell_type": "code",
   "execution_count": 31,
   "id": "01455523",
   "metadata": {},
   "outputs": [
    {
     "name": "stdout",
     "output_type": "stream",
     "text": [
      "50\n",
      "70\n",
      "90\n"
     ]
    }
   ],
   "source": [
    "for j in J:\n",
    "    print(sum(x[i][j] for i in I))"
   ]
  },
  {
   "cell_type": "markdown",
   "id": "6279eb4d",
   "metadata": {},
   "source": [
    "$\\sum\\limits_{j \\in J} x_{ij}, \\;\\; \\forall i \\in I$"
   ]
  },
  {
   "cell_type": "code",
   "execution_count": 32,
   "id": "bf2a4a8c",
   "metadata": {},
   "outputs": [
    {
     "name": "stdout",
     "output_type": "stream",
     "text": [
      "60\n",
      "150\n"
     ]
    }
   ],
   "source": [
    "for i in I:\n",
    "    print(sum(x[i][j] for j in J))"
   ]
  },
  {
   "cell_type": "markdown",
   "id": "60f87b46",
   "metadata": {},
   "source": [
    "# Funções"
   ]
  },
  {
   "cell_type": "code",
   "execution_count": 33,
   "id": "bd35ba0e",
   "metadata": {},
   "outputs": [],
   "source": [
    "def calcular_dobro(x):\n",
    "    return x*2"
   ]
  },
  {
   "cell_type": "code",
   "execution_count": 34,
   "id": "0288e6ff",
   "metadata": {},
   "outputs": [
    {
     "data": {
      "text/plain": [
       "20"
      ]
     },
     "execution_count": 34,
     "metadata": {},
     "output_type": "execute_result"
    }
   ],
   "source": [
    "calcular_dobro(10)"
   ]
  },
  {
   "cell_type": "code",
   "execution_count": 35,
   "id": "a6985a82",
   "metadata": {},
   "outputs": [],
   "source": [
    "calcular_dobro2 = lambda x: x*2"
   ]
  },
  {
   "cell_type": "code",
   "execution_count": 36,
   "id": "acae68d5",
   "metadata": {},
   "outputs": [
    {
     "data": {
      "text/plain": [
       "20"
      ]
     },
     "execution_count": 36,
     "metadata": {},
     "output_type": "execute_result"
    }
   ],
   "source": [
    "calcular_dobro2(10)"
   ]
  },
  {
   "cell_type": "code",
   "execution_count": 37,
   "id": "4f81d8c9",
   "metadata": {},
   "outputs": [],
   "source": [
    "def retornar_item(v, i):\n",
    "    return v[i-1]"
   ]
  },
  {
   "cell_type": "code",
   "execution_count": 38,
   "id": "ca9b3353",
   "metadata": {},
   "outputs": [],
   "source": [
    "x = [10,20,30,40]"
   ]
  },
  {
   "cell_type": "code",
   "execution_count": 39,
   "id": "4a93d3bf",
   "metadata": {},
   "outputs": [
    {
     "data": {
      "text/plain": [
       "10"
      ]
     },
     "execution_count": 39,
     "metadata": {},
     "output_type": "execute_result"
    }
   ],
   "source": [
    "retornar_item(x, 1)"
   ]
  },
  {
   "cell_type": "code",
   "execution_count": 40,
   "id": "2fb21d58",
   "metadata": {},
   "outputs": [
    {
     "data": {
      "text/plain": [
       "20"
      ]
     },
     "execution_count": 40,
     "metadata": {},
     "output_type": "execute_result"
    }
   ],
   "source": [
    "retornar_item(x, 2)"
   ]
  },
  {
   "cell_type": "code",
   "execution_count": 41,
   "id": "4b250824",
   "metadata": {},
   "outputs": [],
   "source": [
    "retornar_item2 = lambda v,i: v[i-1]"
   ]
  },
  {
   "cell_type": "code",
   "execution_count": 42,
   "id": "3694b19c",
   "metadata": {},
   "outputs": [
    {
     "data": {
      "text/plain": [
       "10"
      ]
     },
     "execution_count": 42,
     "metadata": {},
     "output_type": "execute_result"
    }
   ],
   "source": [
    "retornar_item2(x, 1)"
   ]
  },
  {
   "cell_type": "code",
   "execution_count": 43,
   "id": "91732365",
   "metadata": {},
   "outputs": [
    {
     "data": {
      "text/plain": [
       "20"
      ]
     },
     "execution_count": 43,
     "metadata": {},
     "output_type": "execute_result"
    }
   ],
   "source": [
    "retornar_item2(x, 2)"
   ]
  },
  {
   "cell_type": "code",
   "execution_count": null,
   "id": "b95eb491",
   "metadata": {},
   "outputs": [],
   "source": []
  }
 ],
 "metadata": {
  "kernelspec": {
   "display_name": "Python 3 (ipykernel)",
   "language": "python",
   "name": "python3"
  },
  "language_info": {
   "codemirror_mode": {
    "name": "ipython",
    "version": 3
   },
   "file_extension": ".py",
   "mimetype": "text/x-python",
   "name": "python",
   "nbconvert_exporter": "python",
   "pygments_lexer": "ipython3",
   "version": "3.8.12"
  }
 },
 "nbformat": 4,
 "nbformat_minor": 5
}
